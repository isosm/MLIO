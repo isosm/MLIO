{
  "nbformat": 4,
  "nbformat_minor": 0,
  "metadata": {
    "colab": {
      "provenance": [],
      "authorship_tag": "ABX9TyMx7oW7nqRXYkI7GFNpPUU/",
      "include_colab_link": true
    },
    "kernelspec": {
      "name": "python3",
      "display_name": "Python 3"
    },
    "language_info": {
      "name": "python"
    }
  },
  "cells": [
    {
      "cell_type": "markdown",
      "metadata": {
        "id": "view-in-github",
        "colab_type": "text"
      },
      "source": [
        "<a href=\"https://colab.research.google.com/github/isosm/MLIO/blob/main/Copy_of_Mall_f%C3%B6r_ML_IO.ipynb\" target=\"_parent\"><img src=\"https://colab.research.google.com/assets/colab-badge.svg\" alt=\"Open In Colab\"/></a>"
      ]
    },
    {
      "cell_type": "markdown",
      "source": [
        "**1. Importera nödvändiga bibliotek**\n"
      ],
      "metadata": {
        "id": "lQXjvor75gSd"
      }
    },
    {
      "cell_type": "code",
      "execution_count": null,
      "metadata": {
        "id": "upYFjitg2sbu"
      },
      "outputs": [],
      "source": [
        "# Standardbibliotek och inställningar\n",
        "import numpy as np\n",
        "import pandas as pd\n",
        "import matplotlib.pyplot as plt\n",
        "import seaborn as sns\n",
        "from sklearn.model_selection import train_test_split, GridSearchCV\n",
        "from sklearn.preprocessing import StandardScaler, OneHotEncoder\n",
        "from sklearn.compose import ColumnTransformer\n",
        "from sklearn.pipeline import Pipeline\n",
        "from sklearn.metrics import accuracy_score, confusion_matrix, classification_report\n",
        "from sklearn.impute import SimpleImputer\n",
        "\n",
        "# Inställningar för visualiseringar\n",
        "sns.set(style=\"whitegrid\")\n",
        "plt.rcParams['figure.figsize'] = (10, 6)\n"
      ]
    },
    {
      "cell_type": "markdown",
      "source": [
        "**2. Definiera funktioner för datahantering och analys**\n"
      ],
      "metadata": {
        "id": "d_IPhNMB5rMm"
      }
    },
    {
      "cell_type": "code",
      "source": [
        "filepath = 'path_to_iris.csv'  # Uppdatera med rätt sökväg till CSV-filen\n",
        "data = pd.read_csv(filepath)\n",
        "\n"
      ],
      "metadata": {
        "id": "O96BPdE65t2A"
      },
      "execution_count": null,
      "outputs": []
    },
    {
      "cell_type": "code",
      "source": [
        "# Visa de första raderna av data\n",
        "print(\"### EDA ###\")\n",
        "print(\"Första 5 raderna av data:\\n\", data.head())\n",
        "\n",
        "# Beskrivande statistik\n",
        "print(\"\\nBeskrivande statistik:\\n\", data.describe())\n",
        "\n",
        "# Saknade värden\n",
        "print(\"\\nSaknade värden:\\n\", data.isnull().sum())\n",
        "\n",
        "# Pairplot för att visualisera data\n",
        "sns.pairplot(data, hue='target')\n",
        "plt.show()\n"
      ],
      "metadata": {
        "id": "PZ7VrMss5vy2"
      },
      "execution_count": null,
      "outputs": []
    },
    {
      "cell_type": "markdown",
      "source": [
        "**4. Förbered data**\n"
      ],
      "metadata": {
        "id": "aTdGoCV16Enn"
      }
    },
    {
      "cell_type": "code",
      "source": [
        "# Definiera numeriska och (om tillämpligt) kategoriska funktioner\n",
        "numerical_features = data.columns[:-1]  # Alla utom målvariabeln\n",
        "categorical_features = None  # Inga kategoriska funktioner i detta dataset\n",
        "target = 'target'\n",
        "\n",
        "# Hantera saknade värden\n",
        "imputer = SimpleImputer(strategy='mean')\n",
        "data[numerical_features] = imputer.fit_transform(data[numerical_features])\n",
        "\n",
        "# Skala numeriska funktioner\n",
        "numerical_transformer = StandardScaler()\n",
        "\n",
        "# Skapa ColumnTransformer\n",
        "transformers = [('num', numerical_transformer, numerical_features)]\n",
        "if categorical_features:\n",
        "    categorical_transformer = OneHotEncoder(handle_unknown='ignore')\n",
        "    transformers.append(('cat', categorical_transformer, categorical_features))\n",
        "\n",
        "preprocessor = ColumnTransformer(transformers=transformers)\n"
      ],
      "metadata": {
        "id": "EUkRcYTt6G8l"
      },
      "execution_count": null,
      "outputs": []
    },
    {
      "cell_type": "markdown",
      "source": [
        "5**. Dela upp data**\n"
      ],
      "metadata": {
        "id": "aAFChZYj6PKK"
      }
    },
    {
      "cell_type": "code",
      "source": [
        "X = data.drop(columns=[target])\n",
        "y = data[target]\n",
        "X_train, X_test, y_train, y_test = train_test_split(X, y, test_size=0.2, random_state=42)\n"
      ],
      "metadata": {
        "id": "D5fsxy326RYb"
      },
      "execution_count": null,
      "outputs": []
    },
    {
      "cell_type": "markdown",
      "source": [
        "**6. Definiera modeller och parametergrider för GridSearchCV**"
      ],
      "metadata": {
        "id": "dG5vciTM6dSc"
      }
    },
    {
      "cell_type": "code",
      "source": [
        "from sklearn.linear_model import LogisticRegression\n",
        "from sklearn.ensemble import RandomForestClassifier\n",
        "from sklearn.svm import SVC\n",
        "from sklearn.ensemble import GradientBoostingClassifier\n",
        "\n",
        "param_grid = [\n",
        "    {\n",
        "        'classifier': [LogisticRegression()],\n",
        "        'classifier__C': [0.1, 1, 10, 100]\n",
        "    },\n",
        "    {\n",
        "        'classifier': [RandomForestClassifier()],\n",
        "        'classifier__n_estimators': [50, 100, 200],\n",
        "        'classifier__max_depth': [None, 10, 20, 30]\n",
        "    },\n",
        "    {\n",
        "        'classifier': [SVC()],\n",
        "        'classifier__C': [0.1, 1, 10],\n",
        "        'classifier__gamma': [0.001, 0.01, 0.1]\n",
        "    },\n",
        "    {\n",
        "        'classifier': [GradientBoostingClassifier()],\n",
        "        'classifier__n_estimators': [100, 200],\n",
        "        'classifier__learning_rate': [0.01, 0.1, 0.2],\n",
        "        'classifier__max_depth': [3, 5, 7]\n",
        "    }\n",
        "]\n"
      ],
      "metadata": {
        "id": "JVbDJkge6a8P"
      },
      "execution_count": null,
      "outputs": []
    },
    {
      "cell_type": "markdown",
      "source": [
        "**7. Bygg pipeline**"
      ],
      "metadata": {
        "id": "0Fk4n7wO6wKU"
      }
    },
    {
      "cell_type": "code",
      "source": [
        "pipeline = Pipeline(steps=[('preprocessor', preprocessor),\n",
        "                           ('classifier', LogisticRegression())])  # Placeholder model\n"
      ],
      "metadata": {
        "id": "jsHiBYqO61_3"
      },
      "execution_count": null,
      "outputs": []
    },
    {
      "cell_type": "markdown",
      "source": [
        "**8. Kör GridSearchCV**"
      ],
      "metadata": {
        "id": "Ov2KpVl669Ud"
      }
    },
    {
      "cell_type": "code",
      "source": [
        "grid_search = GridSearchCV(pipeline, param_grid, cv=5, n_jobs=-1)\n",
        "grid_search.fit(X_train, y_train)\n"
      ],
      "metadata": {
        "id": "cF49Y07r7B0e"
      },
      "execution_count": null,
      "outputs": []
    },
    {
      "cell_type": "markdown",
      "source": [
        "\n",
        "**9. Bästa modell och utvärdering**"
      ],
      "metadata": {
        "id": "NZLgSpYS7HQl"
      }
    },
    {
      "cell_type": "code",
      "source": [
        "# Hitta den bästa modellen\n",
        "best_model = grid_search.best_estimator_\n",
        "print(\"Best Parameters:\", grid_search.best_params_)\n",
        "\n",
        "# Utvärdera den bästa modellen\n",
        "y_pred = best_model.predict(X_test)\n",
        "print(\"Accuracy:\", accuracy_score(y_test, y_pred))\n",
        "print(\"Confusion Matrix:\\n\", confusion_matrix(y_test, y_pred))\n",
        "print(\"Classification Report:\\n\", classification_report(y_test, y_pred))\n"
      ],
      "metadata": {
        "id": "YDDambPn7EN-"
      },
      "execution_count": null,
      "outputs": []
    }
  ]
}